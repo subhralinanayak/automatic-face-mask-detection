{
 "cells": [
  {
   "cell_type": "code",
   "execution_count": 19,
   "metadata": {},
   "outputs": [],
   "source": [
    "from tensorflow.keras.applications.mobilenet_v2 import preprocess_input\n",
    "from tensorflow.keras.preprocessing.image import img_to_array\n",
    "import cv2\n",
    "from tensorflow.keras.models import load_model\n",
    "import numpy as np\n",
    "import os"
   ]
  },
  {
   "cell_type": "code",
   "execution_count": 20,
   "metadata": {},
   "outputs": [],
   "source": [
    "prototxt=os.path.sep.join([r'C:\\Users\\AAVEJ\\Desktop\\Mtech\\MLP_project\\face_detector','deploy.prototxt'])\n",
    "weights=os.path.sep.join([r'C:\\Users\\AAVEJ\\Desktop\\Mtech\\MLP_project\\face_detector','res10_300x300_ssd_iter_140000.caffemodel'])"
   ]
  },
  {
   "cell_type": "code",
   "execution_count": 21,
   "metadata": {},
   "outputs": [
    {
     "data": {
      "text/plain": [
       "'C:\\\\Users\\\\AAVEJ\\\\Desktop\\\\Mtech\\\\MLP_project\\\\face_detector\\\\deploy.prototxt'"
      ]
     },
     "execution_count": 21,
     "metadata": {},
     "output_type": "execute_result"
    }
   ],
   "source": [
    "prototxt"
   ]
  },
  {
   "cell_type": "code",
   "execution_count": 22,
   "metadata": {},
   "outputs": [
    {
     "data": {
      "text/plain": [
       "'C:\\\\Users\\\\AAVEJ\\\\Desktop\\\\Mtech\\\\MLP_project\\\\face_detector\\\\res10_300x300_ssd_iter_140000.caffemodel'"
      ]
     },
     "execution_count": 22,
     "metadata": {},
     "output_type": "execute_result"
    }
   ],
   "source": [
    "weights"
   ]
  },
  {
   "cell_type": "code",
   "execution_count": 23,
   "metadata": {},
   "outputs": [],
   "source": [
    "net=cv2.dnn.readNet(prototxt,weights)"
   ]
  },
  {
   "cell_type": "code",
   "execution_count": null,
   "metadata": {},
   "outputs": [],
   "source": []
  },
  {
   "cell_type": "code",
   "execution_count": 24,
   "metadata": {},
   "outputs": [],
   "source": [
    "model=load_model(r'C:\\Users\\AAVEJ\\Desktop\\Mtech\\MLP_project\\umar.model')"
   ]
  },
  {
   "cell_type": "code",
   "execution_count": 716,
   "metadata": {},
   "outputs": [],
   "source": [
    "image=cv2.imread(r'C:\\Users\\AAVEJ\\Desktop\\Mtech\\MLP_project\\exp\\69.jpeg')"
   ]
  },
  {
   "cell_type": "code",
   "execution_count": 717,
   "metadata": {},
   "outputs": [
    {
     "data": {
      "text/plain": [
       "array([[[207, 175, 134],\n",
       "        [207, 175, 134],\n",
       "        [207, 175, 134],\n",
       "        ...,\n",
       "        [250, 251, 249],\n",
       "        [250, 251, 249],\n",
       "        [250, 251, 249]],\n",
       "\n",
       "       [[207, 175, 134],\n",
       "        [207, 175, 134],\n",
       "        [207, 175, 134],\n",
       "        ...,\n",
       "        [250, 251, 249],\n",
       "        [250, 251, 249],\n",
       "        [250, 251, 249]],\n",
       "\n",
       "       [[207, 175, 134],\n",
       "        [207, 175, 134],\n",
       "        [207, 175, 134],\n",
       "        ...,\n",
       "        [250, 251, 249],\n",
       "        [250, 251, 249],\n",
       "        [250, 251, 249]],\n",
       "\n",
       "       ...,\n",
       "\n",
       "       [[114, 135, 162],\n",
       "        [114, 135, 162],\n",
       "        [114, 135, 162],\n",
       "        ...,\n",
       "        [ 90, 115, 149],\n",
       "        [ 88, 115, 149],\n",
       "        [ 88, 115, 149]],\n",
       "\n",
       "       [[114, 135, 162],\n",
       "        [114, 135, 162],\n",
       "        [113, 134, 161],\n",
       "        ...,\n",
       "        [ 88, 115, 149],\n",
       "        [ 88, 115, 149],\n",
       "        [ 88, 115, 149]],\n",
       "\n",
       "       [[114, 135, 162],\n",
       "        [114, 135, 162],\n",
       "        [113, 134, 161],\n",
       "        ...,\n",
       "        [ 88, 115, 149],\n",
       "        [ 88, 115, 149],\n",
       "        [ 88, 115, 149]]], dtype=uint8)"
      ]
     },
     "execution_count": 717,
     "metadata": {},
     "output_type": "execute_result"
    }
   ],
   "source": [
    "image"
   ]
  },
  {
   "cell_type": "code",
   "execution_count": 718,
   "metadata": {},
   "outputs": [],
   "source": [
    "(h,w)=image.shape[:2]"
   ]
  },
  {
   "cell_type": "code",
   "execution_count": 719,
   "metadata": {},
   "outputs": [
    {
     "data": {
      "text/plain": [
       "(1280, 960)"
      ]
     },
     "execution_count": 719,
     "metadata": {},
     "output_type": "execute_result"
    }
   ],
   "source": [
    "(h,w)"
   ]
  },
  {
   "cell_type": "code",
   "execution_count": 720,
   "metadata": {},
   "outputs": [],
   "source": [
    "blb=cv2.dnn.blobFromImage(image,1.0,(300,300),(104.0,177.0,123.0))"
   ]
  },
  {
   "cell_type": "code",
   "execution_count": 721,
   "metadata": {},
   "outputs": [
    {
     "data": {
      "text/plain": [
       "array([[[[103., 103., 103., ..., 145., 146., 146.],\n",
       "         [103., 103., 103., ..., 144., 146., 146.],\n",
       "         [103., 103., 103., ..., 143., 145., 146.],\n",
       "         ...,\n",
       "         [ 12.,  13.,  10., ..., -11., -10.,  -9.],\n",
       "         [ 12.,  10.,   9., ..., -12., -13., -14.],\n",
       "         [ 10.,   9.,   8., ..., -14., -15., -16.]],\n",
       "\n",
       "        [[ -2.,  -2.,  -2., ...,  73.,  74.,  74.],\n",
       "         [ -2.,  -2.,  -2., ...,  72.,  74.,  74.],\n",
       "         [ -2.,  -2.,  -2., ...,  71.,  73.,  74.],\n",
       "         ...,\n",
       "         [-40., -39., -42., ..., -64., -63., -60.],\n",
       "         [-40., -42., -43., ..., -64., -64., -62.],\n",
       "         [-42., -43., -44., ..., -65., -63., -62.]],\n",
       "\n",
       "        [[ 11.,  11.,  11., ..., 125., 126., 126.],\n",
       "         [ 11.,  11.,  11., ..., 124., 126., 126.],\n",
       "         [ 11.,  11.,  11., ..., 123., 125., 126.],\n",
       "         ...,\n",
       "         [ 41.,  42.,  39., ...,  23.,  26.,  29.],\n",
       "         [ 41.,  39.,  38., ...,  22.,  25.,  26.],\n",
       "         [ 39.,  38.,  37., ...,  21.,  25.,  26.]]]], dtype=float32)"
      ]
     },
     "execution_count": 721,
     "metadata": {},
     "output_type": "execute_result"
    }
   ],
   "source": [
    "blb"
   ]
  },
  {
   "cell_type": "code",
   "execution_count": 722,
   "metadata": {},
   "outputs": [
    {
     "data": {
      "text/plain": [
       "(1, 3, 300, 300)"
      ]
     },
     "execution_count": 722,
     "metadata": {},
     "output_type": "execute_result"
    }
   ],
   "source": [
    "blb.shape"
   ]
  },
  {
   "cell_type": "code",
   "execution_count": 723,
   "metadata": {},
   "outputs": [],
   "source": [
    "net.setInput(blb)\n",
    "detections=net.forward()"
   ]
  },
  {
   "cell_type": "code",
   "execution_count": 724,
   "metadata": {},
   "outputs": [
    {
     "data": {
      "text/plain": [
       "array([[[[0.        , 1.        , 0.9982488 , ..., 0.21405923,\n",
       "          0.69405013, 0.5996343 ],\n",
       "         [0.        , 1.        , 0.12881123, ..., 0.7457616 ,\n",
       "          0.692359  , 0.798765  ],\n",
       "         [0.        , 1.        , 0.12616992, ..., 0.76302   ,\n",
       "          0.35799852, 0.8025866 ],\n",
       "         ...,\n",
       "         [0.        , 0.        , 0.        , ..., 0.        ,\n",
       "          0.        , 0.        ],\n",
       "         [0.        , 0.        , 0.        , ..., 0.        ,\n",
       "          0.        , 0.        ],\n",
       "         [0.        , 0.        , 0.        , ..., 0.        ,\n",
       "          0.        , 0.        ]]]], dtype=float32)"
      ]
     },
     "execution_count": 724,
     "metadata": {},
     "output_type": "execute_result"
    }
   ],
   "source": [
    "detections"
   ]
  },
  {
   "cell_type": "code",
   "execution_count": 725,
   "metadata": {},
   "outputs": [
    {
     "data": {
      "text/plain": [
       "200"
      ]
     },
     "execution_count": 725,
     "metadata": {},
     "output_type": "execute_result"
    }
   ],
   "source": [
    "detections.shape[2]"
   ]
  },
  {
   "cell_type": "code",
   "execution_count": null,
   "metadata": {},
   "outputs": [],
   "source": []
  },
  {
   "cell_type": "code",
   "execution_count": 726,
   "metadata": {},
   "outputs": [
    {
     "ename": "TypeError",
     "evalue": "destroyWindow() missing required argument 'winname' (pos 1)",
     "output_type": "error",
     "traceback": [
      "\u001b[1;31m---------------------------------------------------------------------------\u001b[0m",
      "\u001b[1;31mTypeError\u001b[0m                                 Traceback (most recent call last)",
      "\u001b[1;32m<ipython-input-726-c6949208823f>\u001b[0m in \u001b[0;36m<module>\u001b[1;34m\u001b[0m\n\u001b[0;32m     33\u001b[0m \u001b[0mcv2\u001b[0m\u001b[1;33m.\u001b[0m\u001b[0mimshow\u001b[0m\u001b[1;33m(\u001b[0m\u001b[1;34m\"OutPut\"\u001b[0m\u001b[1;33m,\u001b[0m\u001b[0mimage\u001b[0m\u001b[1;33m)\u001b[0m\u001b[1;33m\u001b[0m\u001b[1;33m\u001b[0m\u001b[0m\n\u001b[0;32m     34\u001b[0m \u001b[0mcv2\u001b[0m\u001b[1;33m.\u001b[0m\u001b[0mwaitKey\u001b[0m\u001b[1;33m(\u001b[0m\u001b[1;36m0\u001b[0m\u001b[1;33m)\u001b[0m\u001b[1;33m\u001b[0m\u001b[1;33m\u001b[0m\u001b[0m\n\u001b[1;32m---> 35\u001b[1;33m \u001b[0mcv2\u001b[0m\u001b[1;33m.\u001b[0m\u001b[0mdestroyWindow\u001b[0m\u001b[1;33m(\u001b[0m\u001b[1;33m)\u001b[0m\u001b[1;33m\u001b[0m\u001b[1;33m\u001b[0m\u001b[0m\n\u001b[0m\u001b[0;32m     36\u001b[0m \u001b[1;33m\u001b[0m\u001b[0m\n\u001b[0;32m     37\u001b[0m \u001b[1;33m\u001b[0m\u001b[0m\n",
      "\u001b[1;31mTypeError\u001b[0m: destroyWindow() missing required argument 'winname' (pos 1)"
     ]
    }
   ],
   "source": [
    "for i in range (0,detections.shape[2]):\n",
    "    confidence=detections[0,0,i,2]\n",
    "    \n",
    "    \n",
    "    \n",
    "    if confidence > 0.5:\n",
    "        box=detections[0,0,i,3:7]*np.array([w,h,w,h])\n",
    "        (startX,startY,endX,endY)=box.astype('int')\n",
    "        \n",
    "        (startX,startY)=(max(0,startX), max(0,startY))\n",
    "        (endX,endY)=(min(w-1,endX), min(h-1,endY))\n",
    "        face=image[startY:endY , startX:endX]\n",
    "        face=cv2.cvtColor(face,cv2.COLOR_BGR2RGB)\n",
    "        face=cv2.resize(face,(224,224))\n",
    "        face=img_to_array(face)\n",
    "        face=preprocess_input(face)\n",
    "        face=np.expand_dims(face,axis=0)\n",
    "        \n",
    "        \n",
    "        (mask,withoutmask)=model.predict(face)[0]\n",
    "        \n",
    "        \n",
    "        label='Mask' if mask>withoutmask else 'No mask'\n",
    "        color=(0,255,0) if label=='Mask' else (0,0,255)\n",
    "        \n",
    "        label=\"{}: {:.2f}%\".format(label,max(mask,withoutmask)*100)\n",
    "        \n",
    "        cv2.putText(image,label,(startX,startY-10),cv2.FONT_HERSHEY_SIMPLEX,0.45,color,2)\n",
    "        cv2.rectangle(image,(startX,startY),(endX,endY),color,2)\n",
    "        \n",
    "        \n",
    "\n",
    "cv2.imshow(\"OutPut\",image)\n",
    "cv2.waitKey(0)\n",
    "cv2.destroyWindow()\n",
    "        \n",
    "        \n",
    "        \n",
    "        "
   ]
  },
  {
   "cell_type": "code",
   "execution_count": null,
   "metadata": {},
   "outputs": [],
   "source": []
  },
  {
   "cell_type": "code",
   "execution_count": null,
   "metadata": {},
   "outputs": [],
   "source": []
  },
  {
   "cell_type": "code",
   "execution_count": null,
   "metadata": {},
   "outputs": [],
   "source": []
  },
  {
   "cell_type": "code",
   "execution_count": null,
   "metadata": {},
   "outputs": [],
   "source": []
  },
  {
   "cell_type": "code",
   "execution_count": null,
   "metadata": {},
   "outputs": [],
   "source": []
  }
 ],
 "metadata": {
  "kernelspec": {
   "display_name": "Python 3",
   "language": "python",
   "name": "python3"
  }
 },
 "nbformat": 4,
 "nbformat_minor": 2
}
